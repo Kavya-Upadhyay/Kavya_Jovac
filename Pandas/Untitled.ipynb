{
 "cells": [
  {
   "cell_type": "markdown",
   "id": "8ad2302d-de7a-489d-8610-46ee1b6f7d82",
   "metadata": {},
   "source": [
    "# Task 1"
   ]
  },
  {
   "cell_type": "code",
   "execution_count": 1,
   "id": "c9fa1c6e-e7c6-4d5f-82e6-fb5e003f6910",
   "metadata": {},
   "outputs": [
    {
     "name": "stdout",
     "output_type": "stream",
     "text": [
      "First three elements:\n",
      " A    25\n",
      "B    30\n",
      "C    35\n",
      "dtype: int64\n",
      "Mean: 35.0\n",
      "Median: 35.0\n",
      "Std Dev: 7.905694150420948\n"
     ]
    }
   ],
   "source": [
    "import pandas as pd\n",
    "import numpy as np\n",
    "\n",
    "data = [25, 30, 35, 40, 45]\n",
    "s = pd.Series(data, index=['A', 'B', 'C', 'D', 'E'])\n",
    "\n",
    "print(\"First three elements:\\n\", s.head(3))\n",
    "print(\"Mean:\", s.mean())\n",
    "print(\"Median:\", s.median())\n",
    "print(\"Std Dev:\", s.std())\n"
   ]
  },
  {
   "cell_type": "markdown",
   "id": "59c7ae7d-a55a-4b51-8d19-4ed145c92193",
   "metadata": {},
   "source": [
    "# Task 2"
   ]
  },
  {
   "cell_type": "code",
   "execution_count": 3,
   "id": "5420f871-57a3-4bb5-991f-faf07ed7bb65",
   "metadata": {},
   "outputs": [
    {
     "name": "stdout",
     "output_type": "stream",
     "text": [
      "First two rows:\n",
      "     Name  Age  Gender  Marks\n",
      "0  Alice   20  Female     85\n",
      "1    Bob   22    Male     78\n",
      "Columns: ['Name', 'Age', 'Gender', 'Marks']\n",
      "Data types:\n",
      " Name      object\n",
      "Age        int64\n",
      "Gender    object\n",
      "Marks      int64\n",
      "dtype: object\n",
      "Summary statistics:\n",
      "              Age      Marks\n",
      "count   5.000000   5.000000\n",
      "mean   20.400000  83.400000\n",
      "std     1.140175   7.334848\n",
      "min    19.000000  74.000000\n",
      "25%    20.000000  78.000000\n",
      "50%    20.000000  85.000000\n",
      "75%    21.000000  88.000000\n",
      "max    22.000000  92.000000\n"
     ]
    }
   ],
   "source": [
    "df = pd.DataFrame({\n",
    "    'Name': ['Alice', 'Bob', 'Carol', 'David', 'Eve'],\n",
    "    'Age': [20, 22, 19, 21, 20],\n",
    "    'Gender': ['Female', 'Male', 'Female', 'Male', 'Female'],\n",
    "    'Marks': [85, 78, 92, 74, 88]\n",
    "})\n",
    "\n",
    "print(\"First two rows:\\n\", df.head(2))\n",
    "print(\"Columns:\", df.columns.tolist())\n",
    "print(\"Data types:\\n\", df.dtypes)\n",
    "print(\"Summary statistics:\\n\", df.describe())\n",
    "\n",
    "df['Passed'] = df['Marks'] >= 80\n"
   ]
  },
  {
   "cell_type": "markdown",
   "id": "11404435-7641-42f7-a6c6-e6c5cef17a9d",
   "metadata": {},
   "source": [
    "# Task3"
   ]
  },
  {
   "cell_type": "code",
   "execution_count": 5,
   "id": "0ac446bb-8c9d-4290-8ec5-b630a7cfbed5",
   "metadata": {},
   "outputs": [
    {
     "name": "stdout",
     "output_type": "stream",
     "text": [
      "Name and Marks:\n",
      "     Name  Marks\n",
      "0  Alice     85\n",
      "1    Bob     78\n",
      "2  Carol     92\n",
      "3  David     74\n",
      "4    Eve     88\n",
      "Marks > 80:\n",
      "     Name  Age  Gender  Marks  Passed\n",
      "0  Alice   20  Female     85    True\n",
      "2  Carol   19  Female     92    True\n",
      "4    Eve   20  Female     88    True\n",
      "Top scorer:\n",
      "     Name  Age  Gender  Marks  Passed\n",
      "2  Carol   19  Female     92    True\n"
     ]
    }
   ],
   "source": [
    "print(\"Name and Marks:\\n\", df[['Name', 'Marks']])\n",
    "print(\"Marks > 80:\\n\", df[df['Marks'] > 80])\n",
    "print(\"Top scorer:\\n\", df[df['Marks'] == df['Marks'].max()])\n"
   ]
  },
  {
   "cell_type": "markdown",
   "id": "4e2f4a97-495c-4ea5-8282-dc445cac02c3",
   "metadata": {},
   "source": [
    "# Task4"
   ]
  },
  {
   "cell_type": "code",
   "execution_count": 7,
   "id": "1471367d-e3c0-4661-b03c-76082c552ada",
   "metadata": {},
   "outputs": [
    {
     "name": "stdout",
     "output_type": "stream",
     "text": [
      "Missing values:\n",
      " Name      0\n",
      "Age       1\n",
      "Gender    0\n",
      "Marks     1\n",
      "Passed    0\n",
      "dtype: int64\n"
     ]
    },
    {
     "name": "stderr",
     "output_type": "stream",
     "text": [
      "C:\\Users\\heman\\AppData\\Local\\Temp\\ipykernel_17116\\2273464051.py:6: FutureWarning: A value is trying to be set on a copy of a DataFrame or Series through chained assignment using an inplace method.\n",
      "The behavior will change in pandas 3.0. This inplace method will never work because the intermediate object on which we are setting values always behaves as a copy.\n",
      "\n",
      "For example, when doing 'df[col].method(value, inplace=True)', try using 'df.method({col: value}, inplace=True)' or df[col] = df[col].method(value) instead, to perform the operation inplace on the original object.\n",
      "\n",
      "\n",
      "  df['Marks'].fillna(df['Marks'].mean(), inplace=True)\n"
     ]
    }
   ],
   "source": [
    "df.loc[1, 'Marks'] = None\n",
    "df.loc[4, 'Age'] = None\n",
    "\n",
    "print(\"Missing values:\\n\", df.isnull().sum())\n",
    "\n",
    "df['Marks'].fillna(df['Marks'].mean(), inplace=True)\n",
    "df = df.dropna(subset=['Age'])\n"
   ]
  },
  {
   "cell_type": "markdown",
   "id": "aec29873-016e-4941-8ba5-1db57ea6e0c5",
   "metadata": {},
   "source": [
    "# Task5"
   ]
  },
  {
   "cell_type": "code",
   "execution_count": 9,
   "id": "befb7903-5b18-4e67-a14f-a37af2f32f83",
   "metadata": {},
   "outputs": [
    {
     "name": "stdout",
     "output_type": "stream",
     "text": [
      "Mean by gender:\n",
      "          Age   Marks\n",
      "Gender              \n",
      "Female  19.5  88.500\n",
      "Male    21.5  79.375\n",
      "Count by gender:\n",
      " Gender\n",
      "Female    2\n",
      "Male      2\n",
      "Name: count, dtype: int64\n"
     ]
    }
   ],
   "source": [
    "print(\"Mean by gender:\\n\", df.groupby('Gender')[['Age', 'Marks']].mean())\n",
    "print(\"Count by gender:\\n\", df['Gender'].value_counts())\n"
   ]
  },
  {
   "cell_type": "markdown",
   "id": "8a8b3a7b-8a39-437c-81e4-4447de88fba3",
   "metadata": {},
   "source": [
    "# Task6"
   ]
  },
  {
   "cell_type": "code",
   "execution_count": 11,
   "id": "0e9537e0-87d0-4ed1-aa76-e3fc390e8bd9",
   "metadata": {},
   "outputs": [
    {
     "name": "stdout",
     "output_type": "stream",
     "text": [
      "First five rows:\n",
      "     Name   Age  Gender  Marks  Passed\n",
      "0  Alice  20.0  Female  85.00    True\n",
      "1    Bob  22.0    Male  84.75   False\n",
      "2  Carol  19.0  Female  92.00    True\n",
      "3  David  21.0    Male  74.00   False\n"
     ]
    }
   ],
   "source": [
    "df.to_csv('students_data.csv', index=False)\n",
    "\n",
    "df_new = pd.read_csv('students_data.csv')\n",
    "\n",
    "print(\"First five rows:\\n\", df_new.head())\n"
   ]
  },
  {
   "cell_type": "markdown",
   "id": "86c025ec-926d-4188-b80b-e150e7f56c7f",
   "metadata": {},
   "source": [
    "# Task7"
   ]
  },
  {
   "cell_type": "code",
   "execution_count": 13,
   "id": "f1f80d73-21e5-4994-8206-e3b45c8bd60d",
   "metadata": {},
   "outputs": [
    {
     "name": "stdout",
     "output_type": "stream",
     "text": [
      "<class 'pandas.core.frame.DataFrame'>\n",
      "RangeIndex: 244 entries, 0 to 243\n",
      "Data columns (total 7 columns):\n",
      " #   Column      Non-Null Count  Dtype   \n",
      "---  ------      --------------  -----   \n",
      " 0   total_bill  244 non-null    float64 \n",
      " 1   tip         244 non-null    float64 \n",
      " 2   sex         244 non-null    category\n",
      " 3   smoker      244 non-null    category\n",
      " 4   day         244 non-null    category\n",
      " 5   time        244 non-null    category\n",
      " 6   size        244 non-null    int64   \n",
      "dtypes: category(4), float64(2), int64(1)\n",
      "memory usage: 7.4 KB\n",
      "Info:\n",
      " None\n",
      "Summary:\n",
      "        total_bill         tip        size\n",
      "count  244.000000  244.000000  244.000000\n",
      "mean    19.785943    2.998279    2.569672\n",
      "std      8.902412    1.383638    0.951100\n",
      "min      3.070000    1.000000    1.000000\n",
      "25%     13.347500    2.000000    2.000000\n",
      "50%     17.795000    2.900000    2.000000\n",
      "75%     24.127500    3.562500    3.000000\n",
      "max     50.810000   10.000000    6.000000\n",
      "Missing values:\n",
      " total_bill    0\n",
      "tip           0\n",
      "sex           0\n",
      "smoker        0\n",
      "day           0\n",
      "time          0\n",
      "size          0\n",
      "dtype: int64\n"
     ]
    },
    {
     "data": {
      "image/png": "[encoded data removed]",
      "text/plain": [
       "<Figure size 640x480 with 1 Axes>"
      ]
     },
     "metadata": {},
     "output_type": "display_data"
    },
    {
     "data": {
      "image/png": "[encoded data removed]",
      "text/plain": [
       "<Figure size 640x480 with 1 Axes>"
      ]
     },
     "metadata": {},
     "output_type": "display_data"
    }
   ],
   "source": [
    "import seaborn as sns\n",
    "import matplotlib.pyplot as plt\n",
    "\n",
    "tips = sns.load_dataset('tips')\n",
    "\n",
    "print(\"Info:\\n\", tips.info())\n",
    "print(\"Summary:\\n\", tips.describe())\n",
    "print(\"Missing values:\\n\", tips.isnull().sum())\n",
    "\n",
    "sns.histplot(tips['total_bill'], kde=True)\n",
    "plt.title(\"Total Bill Distribution\")\n",
    "plt.show()\n",
    "\n",
    "sns.boxplot(x='day', y='total_bill', data=tips)\n",
    "plt.title(\"Total Bill by Day\")\n",
    "plt.show()\n"
   ]
  },
  {
   "cell_type": "code",
   "execution_count": null,
   "id": "becbcc9b-74cb-450c-a28b-e2f9053d8bdb",
   "metadata": {},
   "outputs": [],
   "source": []
  }
 ],
 "metadata": {
  "kernelspec": {
   "display_name": "Python 3 (ipykernel)",
   "language": "python",
   "name": "python3"
  },
  "language_info": {
   "codemirror_mode": {
    "name": "ipython",
    "version": 3
   },
   "file_extension": ".py",
   "mimetype": "text/x-python",
   "name": "python",
   "nbconvert_exporter": "python",
   "pygments_lexer": "ipython3",
   "version": "3.12.4"
  }
 },
 "nbformat": 4,
 "nbformat_minor": 5
}
