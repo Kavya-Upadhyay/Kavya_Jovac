{
 "cells": [
  {
   "cell_type": "code",
   "execution_count": 1,
   "id": "70a684ad-eaee-4f2a-9b2d-f62decc58944",
   "metadata": {},
   "outputs": [
    {
     "name": "stdout",
     "output_type": "stream",
     "text": [
      "1D Array:\n",
      "Array:\n",
      " [ 1  2  3  4  5  6  7  8  9 10]\n",
      "Shape: (10,)\n",
      "Size: 10\n",
      "Data type: int32\n",
      "----------------------------------------\n",
      "2D Array:\n",
      "Array:\n",
      " [[1 2 3]\n",
      " [4 5 6]\n",
      " [7 8 9]]\n",
      "Shape: (3, 3)\n",
      "Size: 9\n",
      "Data type: int32\n",
      "----------------------------------------\n",
      "3D Array:\n",
      "Array:\n",
      " [[[0.68617729 0.8452028  0.88858509]\n",
      "  [0.1827555  0.06303679 0.91179017]\n",
      "  [0.68354758 0.1280398  0.12488385]\n",
      "  [0.09639287 0.07928667 0.75637308]\n",
      "  [0.87389033 0.74946216 0.34674167]]\n",
      "\n",
      " [[0.17592821 0.85805797 0.52286576]\n",
      "  [0.59453522 0.45753344 0.87290054]\n",
      "  [0.10160898 0.35926369 0.03874932]\n",
      "  [0.27586937 0.74833165 0.94840922]\n",
      "  [0.68975659 0.32094627 0.39738765]]\n",
      "\n",
      " [[0.17067416 0.33550984 0.1244142 ]\n",
      "  [0.95044747 0.61174291 0.49575838]\n",
      "  [0.69641007 0.36965482 0.27367106]\n",
      "  [0.53492443 0.46894732 0.12346105]\n",
      "  [0.06308407 0.50650838 0.29742145]]]\n",
      "Shape: (3, 5, 3)\n",
      "Size: 45\n",
      "Data type: float64\n",
      "----------------------------------------\n"
     ]
    }
   ],
   "source": [
    "import numpy as np\n",
    "\n",
    "arr_1d = np.arange(1, 11)\n",
    "arr_2d = np.arange(1, 10).reshape(3, 3)\n",
    "arr_3d = np.random.rand(3, 5, 3)\n",
    "\n",
    "def display_info(name, array):\n",
    "    print(f\"{name}:\")\n",
    "    print(\"Array:\\n\", array)\n",
    "    print(\"Shape:\", array.shape)\n",
    "    print(\"Size:\", array.size)\n",
    "    print(\"Data type:\", array.dtype)\n",
    "    print(\"-\" * 40)\n",
    "\n",
    "display_info(\"1D Array\", arr_1d)\n",
    "display_info(\"2D Array\", arr_2d)\n",
    "display_info(\"3D Array\", arr_3d)\n"
   ]
  },
  {
   "cell_type": "code",
   "execution_count": 3,
   "id": "575f25d2-31a5-49a3-8b5e-cc313082c488",
   "metadata": {},
   "outputs": [
    {
     "name": "stdout",
     "output_type": "stream",
     "text": [
      "First three: [10 20 30]\n",
      "Alternate elements: [10 30 50 70 90]\n",
      "Reversed array: [90 80 70 60 50 40 30 20 10]\n"
     ]
    }
   ],
   "source": [
    "import numpy as np\n",
    "\n",
    "data = np.array([10, 20, 30, 40, 50, 60, 70, 80, 90])\n",
    "\n",
    "first_three = data[:3]\n",
    "alternate = data[::2]\n",
    "reversed_array = data[::-1]\n",
    "\n",
    "print(\"First three:\", first_three)\n",
    "print(\"Alternate elements:\", alternate)\n",
    "print(\"Reversed array:\", reversed_array)\n"
   ]
  },
  {
   "cell_type": "code",
   "execution_count": 5,
   "id": "ef3b1466-b3e8-42c8-ae0a-6493adbce106",
   "metadata": {},
   "outputs": [
    {
     "name": "stdout",
     "output_type": "stream",
     "text": [
      "A: [12 16  8 14 18]\n",
      "B: [10 11 10  9 17]\n",
      "Add: [22 27 18 23 35]\n",
      "Subtract: [ 2  5 -2  5  1]\n",
      "Multiply: [120 176  80 126 306]\n",
      "Divide: [1.2        1.45454545 0.8        1.55555556 1.05882353]\n",
      "Dot product: 808\n",
      "Mean of A: 13.6\n",
      "Median of A: 14.0\n",
      "Std of A: 3.4409301068170506\n",
      "Var of A: 11.84\n",
      "Max of B: 17 at index 4\n",
      "Min of B: 9 at index 3\n"
     ]
    }
   ],
   "source": [
    "A = np.random.randint(1, 21, 5)\n",
    "B = np.random.randint(1, 21, 5)\n",
    "\n",
    "add = A + B\n",
    "subtract = A - B\n",
    "multiply = A * B\n",
    "divide = A / B\n",
    "dot_product = np.dot(A, B)\n",
    "\n",
    "mean_A = np.mean(A)\n",
    "median_A = np.median(A)\n",
    "std_A = np.std(A)\n",
    "var_A = np.var(A)\n",
    "\n",
    "max_B = np.max(B)\n",
    "min_B = np.min(B)\n",
    "max_idx_B = np.argmax(B)\n",
    "min_idx_B = np.argmin(B)\n",
    "\n",
    "print(\"A:\", A)\n",
    "print(\"B:\", B)\n",
    "print(\"Add:\", add)\n",
    "print(\"Subtract:\", subtract)\n",
    "print(\"Multiply:\", multiply)\n",
    "print(\"Divide:\", divide)\n",
    "print(\"Dot product:\", dot_product)\n",
    "print(\"Mean of A:\", mean_A)\n",
    "print(\"Median of A:\", median_A)\n",
    "print(\"Std of A:\", std_A)\n",
    "print(\"Var of A:\", var_A)\n",
    "print(\"Max of B:\", max_B, \"at index\", max_idx_B)\n",
    "print(\"Min of B:\", min_B, \"at index\", min_idx_B)\n"
   ]
  },
  {
   "cell_type": "code",
   "execution_count": 7,
   "id": "6b61ebf6-2b3a-4469-8af5-376568ae9700",
   "metadata": {},
   "outputs": [
    {
     "name": "stdout",
     "output_type": "stream",
     "text": [
      "2D shape: (4, 3)\n",
      "3D shape: (2, 2, 3)\n",
      "Transposed shape: (3, 4)\n"
     ]
    }
   ],
   "source": [
    "arr = np.arange(1, 13)\n",
    "\n",
    "reshaped_2d = arr.reshape(4, 3)\n",
    "reshaped_3d = arr.reshape(2, 2, 3)\n",
    "transposed_2d = reshaped_2d.T\n",
    "\n",
    "print(\"2D shape:\", reshaped_2d.shape)\n",
    "print(\"3D shape:\", reshaped_3d.shape)\n",
    "print(\"Transposed shape:\", transposed_2d.shape)\n"
   ]
  },
  {
   "cell_type": "code",
   "execution_count": 9,
   "id": "5da4d0ff-9bf4-4047-967e-06068a308588",
   "metadata": {},
   "outputs": [
    {
     "name": "stdout",
     "output_type": "stream",
     "text": [
      "Original array after masking: [37 38  0  0 43  0 30 43  0  0  0  0  0  0  0]\n",
      "Elements > 25: [37 38 43 30 43 28]\n",
      "Count divisible by 5: 11\n"
     ]
    }
   ],
   "source": [
    "arr = np.random.randint(10, 51, 15)\n",
    "\n",
    "greater_than_25 = arr[arr > 25]\n",
    "arr[arr < 30] = 0\n",
    "divisible_by_5 = np.sum(arr % 5 == 0)\n",
    "\n",
    "print(\"Original array after masking:\", arr)\n",
    "print(\"Elements > 25:\", greater_than_25)\n",
    "print(\"Count divisible by 5:\", divisible_by_5)\n"
   ]
  },
  {
   "cell_type": "code",
   "execution_count": 11,
   "id": "a75b2721-82e8-4b45-9a09-98265a0ba6d1",
   "metadata": {},
   "outputs": [
    {
     "name": "stdout",
     "output_type": "stream",
     "text": [
      "Linspace 0-1: [0.         0.11111111 0.22222222 0.33333333 0.44444444 0.55555556\n",
      " 0.66666667 0.77777778 0.88888889 1.        ]\n",
      "Identity matrix:\n",
      " [[1. 0. 0. 0.]\n",
      " [0. 1. 0. 0.]\n",
      " [0. 0. 1. 0.]\n",
      " [0. 0. 0. 1.]]\n",
      "Sorted array: [ 2  8  9 10 18 31 35 37 38 38 43 45 54 61 75 89 91 92 94 95]\n",
      "Top 5 elements: [89 91 92 94 95]\n"
     ]
    }
   ],
   "source": [
    "linspace_arr = np.linspace(0, 1, 10)\n",
    "identity_matrix = np.eye(4)\n",
    "rand_arr = np.random.randint(1, 101, 20)\n",
    "sorted_arr = np.sort(rand_arr)\n",
    "top5 = sorted_arr[-5:]\n",
    "\n",
    "print(\"Linspace 0-1:\", linspace_arr)\n",
    "print(\"Identity matrix:\\n\", identity_matrix)\n",
    "print(\"Sorted array:\", sorted_arr)\n",
    "print(\"Top 5 elements:\", top5)\n"
   ]
  },
  {
   "cell_type": "code",
   "execution_count": 13,
   "id": "605a1249-2b4c-4d9a-ae79-8dabc4c11459",
   "metadata": {},
   "outputs": [
    {
     "name": "stdout",
     "output_type": "stream",
     "text": [
      "Time taken: 0.061316490173339844\n",
      "Determinant: -7.014511450658821e+50\n",
      "Inverse exists: True\n"
     ]
    }
   ],
   "source": [
    "import time\n",
    "\n",
    "A = np.random.rand(100, 100)\n",
    "B = np.random.rand(100, 100)\n",
    "\n",
    "start = time.time()\n",
    "product = np.dot(A, B)\n",
    "end = time.time()\n",
    "\n",
    "try:\n",
    "    det = np.linalg.det(product)\n",
    "    inv = np.linalg.inv(product)\n",
    "except np.linalg.LinAlgError:\n",
    "    det = None\n",
    "    inv = None\n",
    "\n",
    "print(\"Time taken:\", end - start)\n",
    "print(\"Determinant:\", det)\n",
    "print(\"Inverse exists:\", inv is not None)\n"
   ]
  },
  {
   "cell_type": "code",
   "execution_count": null,
   "id": "4b91b815-7880-4c3f-8b18-107b907519d2",
   "metadata": {},
   "outputs": [],
   "source": []
  }
 ],
 "metadata": {
  "kernelspec": {
   "display_name": "Python 3 (ipykernel)",
   "language": "python",
   "name": "python3"
  },
  "language_info": {
   "codemirror_mode": {
    "name": "ipython",
    "version": 3
   },
   "file_extension": ".py",
   "mimetype": "text/x-python",
   "name": "python",
   "nbconvert_exporter": "python",
   "pygments_lexer": "ipython3",
   "version": "3.12.4"
  }
 },
 "nbformat": 4,
 "nbformat_minor": 5
}
